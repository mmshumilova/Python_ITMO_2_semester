{
 "cells": [
  {
   "cell_type": "code",
   "execution_count": 22,
   "metadata": {},
   "outputs": [],
   "source": [
    "from pathlib import Path #to indicate the path to our file\n",
    "\n",
    "path = Path('/home/maria/Documents/Python/02_semester/04_json_format_hw_4/data.JSON')\n",
    "\n",
    "file = open(path,)\n",
    "fname = json.load(file)"
   ]
  },
  {
   "cell_type": "code",
   "execution_count": 23,
   "metadata": {},
   "outputs": [
    {
     "name": "stdout",
     "output_type": "stream",
     "text": [
      "{'A': ['B', 'C'], 'C': ['B', 'D'], 'F': ['D'], 'D': ['E']}\n",
      "{'E', 'B', 'D', 'C', 'A', 'F'}\n"
     ]
    }
   ],
   "source": [
    "tree = dict()\n",
    "nodes = set()\n",
    "for el in fname:\n",
    "    nodes.add(el['name'])\n",
    "    for p in el['parents']:\n",
    "        if p in tree:\n",
    "            tree[p].append(el['name'])\n",
    "        else:\n",
    "            tree[p] = [el['name']]\n",
    "print(tree)\n",
    "print(nodes)\n"
   ]
  },
  {
   "cell_type": "code",
   "execution_count": 24,
   "metadata": {},
   "outputs": [
    {
     "name": "stdout",
     "output_type": "stream",
     "text": [
      "A 5\n",
      "B 1\n",
      "C 4\n",
      "D 2\n",
      "E 1\n",
      "F 3\n"
     ]
    }
   ],
   "source": [
    "def get_descendants(tree, node):\n",
    "\n",
    "    visited = []\n",
    "    queue = []\n",
    "    def bfs(visited, graph, node):\n",
    "      visited.append(node)\n",
    "      queue.append(node)\n",
    "\n",
    "      while queue:\n",
    "        s = queue.pop(0)\n",
    "        res.append(s)\n",
    "\n",
    "        if s in graph:\n",
    "            for neighbour in graph[s]:\n",
    "              if neighbour not in visited:\n",
    "                visited.append(neighbour)\n",
    "                queue.append(neighbour)\n",
    "\n",
    "    bfs(visited, tree, node)\n",
    "\n",
    "for el in sorted(nodes):\n",
    "    res = []\n",
    "    get_descendants(tree, el)\n",
    "    print(el, len(res))"
   ]
  },
  {
   "cell_type": "code",
   "execution_count": null,
   "metadata": {},
   "outputs": [],
   "source": []
  }
 ],
 "metadata": {
  "kernelspec": {
   "display_name": "Python 3",
   "language": "python",
   "name": "python3"
  },
  "language_info": {
   "codemirror_mode": {
    "name": "ipython",
    "version": 3
   },
   "file_extension": ".py",
   "mimetype": "text/x-python",
   "name": "python",
   "nbconvert_exporter": "python",
   "pygments_lexer": "ipython3",
   "version": "3.8.5"
  }
 },
 "nbformat": 4,
 "nbformat_minor": 4
}
